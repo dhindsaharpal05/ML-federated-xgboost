{
 "cells": [
  {
   "cell_type": "code",
   "execution_count": 1,
   "metadata": {},
   "outputs": [],
   "source": [
    "import warnings\n",
    "warnings.filterwarnings(\"ignore\")"
   ]
  },
  {
   "cell_type": "markdown",
   "metadata": {
    "colab": {
     "base_uri": "https://localhost:8080/"
    },
    "id": "RFXE2jbSDkt3",
    "outputId": "09919c98-72db-4aa9-b797-d9552fe926fb"
   },
   "source": [
    "!pip install flwr"
   ]
  },
  {
   "cell_type": "markdown",
   "metadata": {
    "colab": {
     "base_uri": "https://localhost:8080/"
    },
    "id": "YtMXa5pVEtPr",
    "outputId": "462bc65b-a04a-428a-d797-3b9466270deb"
   },
   "source": [
    "!pip install torchmetrics"
   ]
  },
  {
   "cell_type": "markdown",
   "metadata": {
    "colab": {
     "base_uri": "https://localhost:8080/"
    },
    "id": "aQygb8FCHv9e",
    "outputId": "a5353fd6-3d5d-4705-af5c-6195ff386c89"
   },
   "source": [
    "!pip install -U flwr[\"simulation\"]"
   ]
  },
  {
   "cell_type": "markdown",
   "metadata": {
    "colab": {
     "base_uri": "https://localhost:8080/"
    },
    "id": "Y0HbxdogPKjB",
    "outputId": "84fd0591-dee7-4381-bb39-59d11c6935a0"
   },
   "source": [
    "!pip install tensorrt"
   ]
  },
  {
   "cell_type": "markdown",
   "metadata": {},
   "source": [
    "!pip install --upgrade torch torchvision"
   ]
  },
  {
   "cell_type": "markdown",
   "metadata": {},
   "source": [
    "!pip install numpy --upgrade"
   ]
  },
  {
   "cell_type": "code",
   "execution_count": 2,
   "metadata": {
    "colab": {
     "base_uri": "https://localhost:8080/"
    },
    "id": "ll3ltiMMsydj",
    "outputId": "50174a81-169d-4a2e-a018-0adc908c7c65"
   },
   "outputs": [
    {
     "name": "stdout",
     "output_type": "stream",
     "text": [
      "Imported modules.\n"
     ]
    }
   ],
   "source": [
    "import xgboost as xgb\n",
    "from xgboost import XGBClassifier, XGBRegressor\n",
    "from sklearn.metrics import mean_squared_error, accuracy_score\n",
    "from sklearn.datasets import load_svmlight_file\n",
    "\n",
    "import numpy as np\n",
    "import torch, torch.nn as nn\n",
    "import torch.nn.functional as F\n",
    "import torchvision\n",
    "from torchmetrics import Accuracy, MeanSquaredError\n",
    "from tqdm import trange, tqdm\n",
    "from torchsummary import summary\n",
    "from torch.utils.data import DataLoader, Dataset, random_split\n",
    "\n",
    "print(\"Imported modules.\")\n"
   ]
  },
  {
   "cell_type": "code",
   "execution_count": 3,
   "metadata": {
    "id": "uGziwqtTtLVu"
   },
   "outputs": [
    {
     "name": "stderr",
     "output_type": "stream",
     "text": [
      "2023-10-22 15:16:48,198\tINFO util.py:159 -- Outdated packages:\n",
      "  ipywidgets==7.6.5 found, needs ipywidgets>=8\n",
      "Run `pip install -U ipywidgets`, then restart the notebook server for rich notebook output.\n"
     ]
    }
   ],
   "source": [
    "import xgboost as xgb\n",
    "from xgboost import XGBClassifier, XGBRegressor\n",
    "from sklearn.metrics import mean_squared_error, accuracy_score\n",
    "from sklearn.datasets import load_svmlight_file\n",
    "\n",
    "import numpy as np\n",
    "import torch, torch.nn as nn\n",
    "import torch.nn.functional as F\n",
    "import torchvision\n",
    "from torchmetrics import Accuracy, MeanSquaredError\n",
    "from tqdm import trange, tqdm\n",
    "from torchsummary import summary\n",
    "from torch.utils.data import DataLoader, Dataset, random_split\n",
    "\n",
    "from collections import OrderedDict\n",
    "from typing import Any, Dict, List, Optional, Tuple, Union\n",
    "from flwr.common import NDArray, NDArrays\n",
    "import flwr as fl\n",
    "from flwr.common.typing import Parameters"
   ]
  },
  {
   "cell_type": "code",
   "execution_count": 4,
   "metadata": {
    "id": "CZG-Shluvv8j"
   },
   "outputs": [],
   "source": [
    "# data cleaning and plots\n",
    "import pandas as pd\n",
    "import numpy as np\n",
    "import seaborn as sns\n",
    "import matplotlib.pyplot as plt\n",
    "plt.style.use('ggplot')\n",
    "%matplotlib inline\n",
    "\n",
    "from tqdm import tqdm  # Progress bar\n",
    "\n",
    "import pickle as pickle  # To load data int disk\n",
    "from prettytable import PrettyTable  # To print in tabular format\n",
    "\n",
    "# sklearn: data preprocessing\n",
    "from sklearn.compose import ColumnTransformer\n",
    "from sklearn.preprocessing import StandardScaler, LabelEncoder, OneHotEncoder\n",
    "from scipy.sparse import csr_matrix  # For sparse matrix\n",
    "\n",
    "# sklearn: train model\n",
    "from sklearn.model_selection import train_test_split\n",
    "from sklearn.model_selection import cross_val_score, cross_validate, StratifiedKFold\n",
    "from sklearn.metrics import precision_recall_curve, precision_score, recall_score, f1_score, accuracy_score\n",
    "from sklearn.metrics import roc_curve, auc, roc_auc_score, confusion_matrix, classification_report\n",
    "\n",
    "from sklearn.metrics import accuracy_score, confusion_matrix, make_scorer  # Scoring functions\n",
    "from sklearn.metrics import auc, f1_score, roc_curve, roc_auc_score  # Scoring fns\n",
    "from sklearn.model_selection import GridSearchCV, RandomizedSearchCV  # Cross validation\n",
    "\n",
    "\n",
    "# sklearn classifiers\n",
    "\n",
    "from sklearn import tree\n",
    "from sklearn.tree import DecisionTreeClassifier\n",
    "\n",
    "from sklearn import datasets, ensemble, model_selection\n",
    "from sklearn.ensemble import RandomForestClassifier\n",
    "\n",
    "from sklearn.neural_network import MLPClassifier\n",
    "\n",
    "import warnings\n",
    "warnings.filterwarnings(\"ignore\")"
   ]
  },
  {
   "cell_type": "code",
   "execution_count": 5,
   "metadata": {
    "id": "c5c94SfwvGND"
   },
   "outputs": [],
   "source": [
    "from matplotlib import pyplot as plt\n",
    "\n",
    "\n",
    "def plot_xgbtree(tree: Union[XGBClassifier, XGBRegressor], n_tree: int) -> None:\n",
    "    \"\"\"Visualize the built xgboost tree.\"\"\"\n",
    "    xgb.plot_tree(tree, num_trees=n_tree)\n",
    "    plt.rcParams[\"figure.figsize\"] = [50, 10]\n",
    "    plt.show()\n",
    "\n",
    "\n",
    "def construct_tree(\n",
    "    dataset: Dataset, label: NDArray, n_estimators: int, tree_type: str\n",
    ") -> Union[XGBClassifier, XGBRegressor]:\n",
    "    \"\"\"Construct a xgboost tree form tabular dataset.\"\"\"\n",
    "    if tree_type == \"BINARY\":\n",
    "        tree = xgb.XGBClassifier(\n",
    "            objective=\"binary:logistic\",\n",
    "            learning_rate=0.1,\n",
    "            max_depth=8,\n",
    "            n_estimators=n_estimators,\n",
    "            subsample=0.8,\n",
    "            colsample_bylevel=1,\n",
    "            colsample_bynode=1,\n",
    "            colsample_bytree=1,\n",
    "            alpha=5,\n",
    "            gamma=5,\n",
    "            num_parallel_tree=1,\n",
    "            min_child_weight=1,\n",
    "        )\n",
    "\n",
    "    elif tree_type == \"REG\":\n",
    "        tree = xgb.XGBRegressor(\n",
    "            objective=\"reg:squarederror\",\n",
    "            learning_rate=0.1,\n",
    "            max_depth=8,\n",
    "            n_estimators=n_estimators,\n",
    "            subsample=0.8,\n",
    "            colsample_bylevel=1,\n",
    "            colsample_bynode=1,\n",
    "            colsample_bytree=1,\n",
    "            alpha=5,\n",
    "            gamma=5,\n",
    "            num_parallel_tree=1,\n",
    "            min_child_weight=1,\n",
    "        )\n",
    "\n",
    "    tree.fit(dataset, label)\n",
    "    return tree\n",
    "\n",
    "\n",
    "def construct_tree_from_loader(\n",
    "    dataset_loader: DataLoader, n_estimators: int, tree_type: str\n",
    ") -> Union[XGBClassifier, XGBRegressor]:\n",
    "    \"\"\"Construct a xgboost tree form tabular dataset loader.\"\"\"\n",
    "    for dataset in dataset_loader:\n",
    "        data, label = dataset[0], dataset[1]\n",
    "    return construct_tree(data, label, n_estimators, tree_type)\n",
    "\n",
    "\n",
    "def single_tree_prediction(\n",
    "    tree: Union[XGBClassifier, XGBRegressor], n_tree: int, dataset: NDArray\n",
    ") -> Optional[NDArray]:\n",
    "    \"\"\"Extract the prediction result of a single tree in the xgboost tree\n",
    "    ensemble.\"\"\"\n",
    "    # How to access a single tree\n",
    "    # https://github.com/bmreiniger/datascience.stackexchange/blob/master/57905.ipynb\n",
    "    num_t = len(tree.get_booster().get_dump())\n",
    "    if n_tree > num_t:\n",
    "        print(\n",
    "            \"The tree index to be extracted is larger than the total number of trees.\"\n",
    "        )\n",
    "        return None\n",
    "\n",
    "    return tree.predict(  # type: ignore\n",
    "        dataset, iteration_range=(n_tree, n_tree + 1), output_margin=True\n",
    "    )\n",
    "\n",
    "\n",
    "def tree_encoding(  # pylint: disable=R0914\n",
    "    trainloader: DataLoader,\n",
    "    client_trees: Union[\n",
    "        Tuple[XGBClassifier, int],\n",
    "        Tuple[XGBRegressor, int],\n",
    "        List[Union[Tuple[XGBClassifier, int], Tuple[XGBRegressor, int]]],\n",
    "    ],\n",
    "    client_tree_num: int,\n",
    "    client_num: int,\n",
    ") -> Optional[Tuple[NDArray, NDArray]]:\n",
    "    \"\"\"Transform the tabular dataset into prediction results using the\n",
    "    aggregated xgboost tree ensembles from all clients.\"\"\"\n",
    "    if trainloader is None:\n",
    "        return None\n",
    "\n",
    "    for local_dataset in trainloader:\n",
    "        x_train, y_train = local_dataset[0], local_dataset[1]\n",
    "\n",
    "    x_train_enc = np.zeros((x_train.shape[0], client_num * client_tree_num))\n",
    "    x_train_enc = np.array(x_train_enc, copy=True)\n",
    "\n",
    "    temp_trees: Any = None\n",
    "    if isinstance(client_trees, list) is False:\n",
    "        temp_trees = [client_trees[0]] * client_num\n",
    "    elif isinstance(client_trees, list) and len(client_trees) != client_num:\n",
    "        temp_trees = [client_trees[0][0]] * client_num\n",
    "    else:\n",
    "        cids = []\n",
    "        temp_trees = []\n",
    "        for i, _ in enumerate(client_trees):\n",
    "            temp_trees.append(client_trees[i][0])  # type: ignore\n",
    "            cids.append(client_trees[i][1])  # type: ignore\n",
    "        sorted_index = np.argsort(np.asarray(cids))\n",
    "        temp_trees = np.asarray(temp_trees)[sorted_index]\n",
    "\n",
    "    for i, _ in enumerate(temp_trees):\n",
    "        for j in range(client_tree_num):\n",
    "            x_train_enc[:, i * client_tree_num + j] = single_tree_prediction(\n",
    "                temp_trees[i], j, x_train\n",
    "            )\n",
    "\n",
    "    x_train_enc32: Any = np.float32(x_train_enc)\n",
    "    y_train32: Any = np.float32(y_train)\n",
    "\n",
    "    x_train_enc32, y_train32 = torch.from_numpy(\n",
    "        np.expand_dims(x_train_enc32, axis=1)  # type: ignore\n",
    "    ), torch.from_numpy(\n",
    "        np.expand_dims(y_train32, axis=-1)  # type: ignore\n",
    "    )\n",
    "    return x_train_enc32, y_train32"
   ]
  },
  {
   "cell_type": "code",
   "execution_count": 6,
   "metadata": {
    "id": "aIZcGaG0vpRF"
   },
   "outputs": [],
   "source": [
    "file_path = \".final_ipynb\""
   ]
  },
  {
   "cell_type": "code",
   "execution_count": 7,
   "metadata": {
    "id": "zzqYJEg6vtrK"
   },
   "outputs": [],
   "source": [
    "# Train and Test data\n",
    "x_train, y_train = pickle.load(open(file_path+\"/final_train.pkl\", 'rb'))\n",
    "x_test, y_test = pickle.load(open(file_path+'/final_test.pkl', 'rb'))\n",
    "\n",
    "# Dictionaries\n",
    "saved_dict = pickle.load(open(file_path+'/saved_dict.pkl', 'rb'))\n",
    "mode_dict = pickle.load(open(file_path+'/mode_dict.pkl', 'rb'))\n",
    "\n",
    "# Standard scaler\n",
    "scaler = pickle.load(open(file_path+'/scaler.pkl', 'rb'))\n",
    "\n",
    "# Onehot encoders\n",
    "ohe_proto = pickle.load(open(file_path+'/ohe_proto.pkl', 'rb'))\n",
    "ohe_service = pickle.load(open(file_path+'/ohe_service.pkl', 'rb'))\n",
    "ohe_state = pickle.load(open(file_path+'/ohe_state.pkl', 'rb'))"
   ]
  },
  {
   "cell_type": "code",
   "execution_count": 8,
   "metadata": {
    "id": "Xd2dKtiGwh3C"
   },
   "outputs": [],
   "source": [
    "# Making the train data sparse matrix\n",
    "x_train_csr = csr_matrix(x_train.values)\n",
    "\n",
    "col = x_train.columns\n",
    "\n",
    "# Creating sparse dataframe with x_train sparse matrix\n",
    "x_train = pd.DataFrame.sparse.from_spmatrix(x_train_csr, columns=col)"
   ]
  },
  {
   "cell_type": "code",
   "execution_count": 9,
   "metadata": {
    "id": "GFOpzOCPwlk1"
   },
   "outputs": [],
   "source": [
    "# Loading sparse data\n",
    "x_train, y_train = pickle.load(open(file_path+'/train_sparse.pkl', 'rb'))"
   ]
  },
  {
   "cell_type": "code",
   "execution_count": 10,
   "metadata": {
    "id": "SwFp3MNWwmzK"
   },
   "outputs": [],
   "source": [
    "#------------------------------------------------------------------------------------------\n",
    "# Data Cleaning\n",
    "#------------------------------------------------------------------------------------------\n",
    "def clean_data(data):\n",
    "    '''\n",
    "    Cleans given raw data. Performs various cleaning, removes Null and wrong values.\n",
    "    Check for columns datatype and fix them.\n",
    "    '''\n",
    "    numerical_col = data.select_dtypes(include=np.number).columns  # All the numerical columns list\n",
    "    categorical_col = data.select_dtypes(exclude=np.number).columns  # All the categorical columns list\n",
    "\n",
    "    # Cleaning the data\n",
    "    for col in data.columns:\n",
    "        val = mode_dict[col]  # Mode value of the column in train data\n",
    "        data[col] = data[col].fillna(value=val)\n",
    "        data[col] = data[col].replace(' ', value=val)\n",
    "        data[col] = data[col].apply(lambda x:\"None\" if x==\"-\" else x)\n",
    "\n",
    "        # Fixing binary columns\n",
    "        if col in saved_dict['binary_col']:\n",
    "            data[col] = np.where(data[col]>1, val, data[col])\n",
    "\n",
    "    # Fixing datatype of columns\n",
    "    bad_dtypes = list(set(categorical_col) - set(saved_dict['cat_col']))\n",
    "    for bad_col in bad_dtypes:\n",
    "        data[col] = data[col].astype(float)\n",
    "\n",
    "    return data\n",
    "\n",
    "#------------------------------------------------------------------------------------------\n",
    "# Feature Engineering: Apply log1p\n",
    "#------------------------------------------------------------------------------------------\n",
    "def apply_log1p(data):\n",
    "    '''\n",
    "    Performs FE on the data. Apply log1p on the specified columns create new column and remove those original columns.\n",
    "    '''\n",
    "    for col in saved_dict['log1p_col']:\n",
    "        new_col = col + '_log1p'  # New col name\n",
    "        data[new_col] = data[col].apply(np.log1p)  # Creating new column on transformed data\n",
    "        data.drop(col, axis=1, inplace=True)  # Removing old columns\n",
    "    return data\n",
    "\n",
    "#------------------------------------------------------------------------------------------\n",
    "# Standardizing: Mean centering an d varience scaling\n",
    "#------------------------------------------------------------------------------------------\n",
    "def standardize(data):\n",
    "    '''\n",
    "    Stanardize the given data. Performs mean centering and varience scaling.\n",
    "    Using stanardscaler object trained on train data.\n",
    "    '''\n",
    "    data[saved_dict['num_col']] = scaler.transform(data[saved_dict['num_col']])\n",
    "    return data\n",
    "\n",
    "#------------------------------------------------------------------------------------------\n",
    "# Onehot encoding of categorical columns\n",
    "#------------------------------------------------------------------------------------------\n",
    "def ohencoding(data):\n",
    "    '''\n",
    "    Onehot encoding the categoricla columns.\n",
    "    Add the ohe columns with the data and removes categorical columns.\n",
    "    Using Onehotencoder objects trained on train data.\n",
    "    '''\n",
    "    # Onehot encoding cat col using onehotencoder objects\n",
    "    X = ohe_service.transform(data['service'].values.reshape(-1, 1))\n",
    "    Xm = ohe_proto.transform(data['proto'].values.reshape(-1, 1))\n",
    "    Xmm = ohe_state.transform(data['state'].values.reshape(-1, 1))\n",
    "\n",
    "    # Adding encoding data to original data\n",
    "    data = pd.concat([data,\n",
    "                      pd.DataFrame(Xm.toarray(), columns=['proto_'+i for i in ohe_proto.categories_[0]]),\n",
    "                      pd.DataFrame(X.toarray(), columns=['service_'+i for i in ohe_service.categories_[0]]),\n",
    "                      pd.DataFrame(Xmm.toarray(), columns=['state_'+i for i in ohe_state.categories_[0]])],\n",
    "                      axis=1)\n",
    "\n",
    "    # Removing cat columns\n",
    "    data.drop(['proto', 'service', 'state'], axis=1, inplace=True)\n",
    "    return data"
   ]
  },
  {
   "cell_type": "code",
   "execution_count": 11,
   "metadata": {
    "id": "DacQPjY5wnvG"
   },
   "outputs": [],
   "source": [
    "def get_final_data(data, saved_dict=saved_dict, mode_dict=mode_dict):\n",
    "    '''\n",
    "    This functions takes raw input and convert that to model required output.\n",
    "    '''\n",
    "    data.reset_index(drop=True, inplace=True)\n",
    "    data.columns = saved_dict['columns']\n",
    "\n",
    "    data['network_bytes'] = data['dbytes'] + data['sbytes']\n",
    "\n",
    "    dropable_col = saved_dict['to_drop'] + saved_dict['corr_col']\n",
    "    data.drop(columns=dropable_col, inplace=True)\n",
    "\n",
    "    data = clean_data(data)\n",
    "    data = apply_log1p(data)\n",
    "    data = standardize(data)\n",
    "    data = ohencoding(data)\n",
    "\n",
    "    return data"
   ]
  },
  {
   "cell_type": "code",
   "execution_count": 12,
   "metadata": {
    "id": "9-_N3g5NwpZz"
   },
   "outputs": [],
   "source": [
    "# Using pipeline to prepare test data\n",
    "x_test = get_final_data(x_test)"
   ]
  },
  {
   "cell_type": "code",
   "execution_count": 13,
   "metadata": {
    "id": "FHmy5dA_wqVS"
   },
   "outputs": [],
   "source": [
    "# Making test data sparse matrix\n",
    "x_test_csr = csr_matrix(x_test.values)\n",
    "col = x_test.columns\n",
    "\n",
    "# Creating x_test sparse dataframe\n",
    "x_test = pd.DataFrame.sparse.from_spmatrix(x_test_csr, columns=col)"
   ]
  },
  {
   "cell_type": "code",
   "execution_count": 14,
   "metadata": {
    "colab": {
     "base_uri": "https://localhost:8080/"
    },
    "id": "r8GUXuOm4mQE",
    "outputId": "d857d388-2dbb-4be6-8aa3-c7242ed3ed32"
   },
   "outputs": [
    {
     "data": {
      "text/plain": [
       "((1778032, 197), (1778032,), (762015, 197), (762015,))"
      ]
     },
     "execution_count": 14,
     "metadata": {},
     "output_type": "execute_result"
    }
   ],
   "source": [
    "x_train.shape, y_train.shape, x_test.shape, y_test.shape"
   ]
  },
  {
   "cell_type": "code",
   "execution_count": 15,
   "metadata": {
    "colab": {
     "base_uri": "https://localhost:8080/"
    },
    "id": "5-S_SrmZ5rU_",
    "outputId": "bc7965cc-2c60-4285-9f62-3844078a1399"
   },
   "outputs": [
    {
     "data": {
      "text/plain": [
       "0          0\n",
       "1          0\n",
       "2          0\n",
       "3          0\n",
       "4          0\n",
       "          ..\n",
       "1778027    0\n",
       "1778028    0\n",
       "1778029    0\n",
       "1778030    0\n",
       "1778031    0\n",
       "Name: label, Length: 1778032, dtype: int64"
      ]
     },
     "execution_count": 15,
     "metadata": {},
     "output_type": "execute_result"
    }
   ],
   "source": [
    "y_train"
   ]
  },
  {
   "cell_type": "code",
   "execution_count": 16,
   "metadata": {
    "colab": {
     "base_uri": "https://localhost:8080/"
    },
    "id": "Stnhs_yFwy3q",
    "outputId": "373557ab-2339-493d-bc94-8f9f1b2ae3be"
   },
   "outputs": [
    {
     "data": {
      "text/plain": [
       "((1778032, 198), (762015, 198))"
      ]
     },
     "execution_count": 16,
     "metadata": {},
     "output_type": "execute_result"
    }
   ],
   "source": [
    "data_train = x_train\n",
    "data_train[\"label\"]=y_train\n",
    "data_test = x_test\n",
    "data_test[\"label\"]=y_test\n",
    "data_train.shape,data_test.shape"
   ]
  },
  {
   "cell_type": "code",
   "execution_count": 17,
   "metadata": {
    "colab": {
     "base_uri": "https://localhost:8080/"
    },
    "id": "aZ6vZM4cxf8u",
    "outputId": "f27afbcb-1ec1-4d60-a83c-93da6b5159f7"
   },
   "outputs": [
    {
     "name": "stdout",
     "output_type": "stream",
     "text": [
      "Feature dimension of the dataset: 197\n",
      "Size of the trainset: 1778032\n",
      "Size of the testset: 762015\n",
      "True\n"
     ]
    }
   ],
   "source": [
    "class TreeDataset(Dataset):\n",
    "    def __init__(self, data: NDArray, labels: NDArray) -> None:\n",
    "        self.labels = labels\n",
    "        self.data = data\n",
    "\n",
    "    def __len__(self) -> int:\n",
    "        return len(self.labels)\n",
    "\n",
    "    def __getitem__(self, idx: int) -> Dict[int, NDArray]:\n",
    "        label = self.labels[idx]\n",
    "        data = self.data[idx, :]\n",
    "        sample = {0: data, 1: label}\n",
    "        return sample\n",
    "\n",
    "\n",
    "#X_train = np.asarray(data_train.iloc[:,0])\n",
    "X_train = data_train[data_train.columns[:-1].tolist()]\n",
    "#y_train = data_train.iloc[:,1]\n",
    "y_train = data_train[data_train.columns[-1]]\n",
    "#X_test = np.asarray(data_test.iloc[:,0])\n",
    "#y_test = data_test.iloc[:,1]\n",
    "X_test= data_test[data_test.columns[:-1].tolist()]\n",
    "y_test = data_test[data_test.columns[-1]]\n",
    "X_train.flags.writeable = True\n",
    "y_train.flags.writeable = True\n",
    "X_test.flags.writeable = True\n",
    "y_test.flags.writeable = True\n",
    "\n",
    "# If the feature dimensions of the trainset and testset do not agree,\n",
    "# specify n_features in the load_svmlight_file function in the above cell.\n",
    "# https://scikit-learn.org/stable/modules/generated/sklearn.datasets.load_svmlight_file.html\n",
    "print(\"Feature dimension of the dataset:\", X_train.shape[1])\n",
    "print(\"Size of the trainset:\", X_train.shape[0])\n",
    "print(\"Size of the testset:\", X_test.shape[0])\n",
    "print(X_train.shape[1] == X_test.shape[1])\n",
    "\n",
    "\n",
    "y_train[y_train == -1] = 0\n",
    "y_test[y_test == -1] = 0\n",
    "\n",
    "trainset = TreeDataset(np.array(X_train, copy=True), np.array(y_train, copy=True))\n",
    "testset = TreeDataset(np.array(X_test, copy=True), np.array(y_test, copy=True))\n",
    "\n",
    "task_type=\"BINARY\""
   ]
  },
  {
   "cell_type": "code",
   "execution_count": 18,
   "metadata": {
    "colab": {
     "base_uri": "https://localhost:8080/"
    },
    "id": "zGb4cHr2_dww",
    "outputId": "efaba720-0d7b-4f04-dc1a-803f7213f9a8"
   },
   "outputs": [
    {
     "data": {
      "text/plain": [
       "0          0\n",
       "1          0\n",
       "2          0\n",
       "3          0\n",
       "4          0\n",
       "          ..\n",
       "1778027    0\n",
       "1778028    0\n",
       "1778029    0\n",
       "1778030    0\n",
       "1778031    0\n",
       "Name: label, Length: 1778032, dtype: int64"
      ]
     },
     "execution_count": 18,
     "metadata": {},
     "output_type": "execute_result"
    }
   ],
   "source": [
    "y_train = data_train[data_train.columns[-1]]\n",
    "y_train"
   ]
  },
  {
   "cell_type": "code",
   "execution_count": 19,
   "metadata": {
    "colab": {
     "base_uri": "https://localhost:8080/"
    },
    "id": "l4AJ6Tn2xka9",
    "outputId": "962dc712-f431-413c-bde0-b639b9e5245d"
   },
   "outputs": [
    {
     "data": {
      "text/plain": [
       "((1778032, 197), (762015, 197))"
      ]
     },
     "execution_count": 19,
     "metadata": {},
     "output_type": "execute_result"
    }
   ],
   "source": [
    "X_train.shape,X_test.shape"
   ]
  },
  {
   "cell_type": "markdown",
   "metadata": {
    "id": "Iu4If69Q2phO"
   },
   "source": [
    "Conduct tabular dataset partition for Federated Learning"
   ]
  },
  {
   "cell_type": "code",
   "execution_count": 20,
   "metadata": {
    "id": "4klcwuP52lp5"
   },
   "outputs": [],
   "source": [
    "def get_dataloader(\n",
    "    dataset: Dataset, partition: str, batch_size: Union[int, str]\n",
    ") -> DataLoader:\n",
    "    if batch_size == \"whole\":\n",
    "        batch_size = len(dataset)\n",
    "    return DataLoader(\n",
    "        dataset, batch_size=batch_size, pin_memory=True, shuffle=(partition == \"train\")\n",
    "    )\n",
    "\n",
    "\n",
    "# https://github.com/adap/flower\n",
    "def do_fl_partitioning(\n",
    "    trainset: Dataset,\n",
    "    testset: Dataset,\n",
    "    pool_size: int,\n",
    "    batch_size: Union[int, str],\n",
    "    val_ratio: float = 0.0,\n",
    ") -> Tuple[DataLoader, DataLoader, DataLoader]:\n",
    "    # Split training set into `num_clients` partitions to simulate different local datasets\n",
    "    partition_size = len(trainset) // pool_size\n",
    "    lengths = [partition_size] * pool_size\n",
    "    if sum(lengths) != len(trainset):\n",
    "        lengths[-1] = len(trainset) - sum(lengths[0:-1])\n",
    "    datasets = random_split(trainset, lengths, torch.Generator().manual_seed(0))\n",
    "\n",
    "    # Split each partition into train/val and create DataLoader\n",
    "    trainloaders = []\n",
    "    valloaders = []\n",
    "    for ds in datasets:\n",
    "        len_val = int(len(ds) * val_ratio)\n",
    "        len_train = len(ds) - len_val\n",
    "        lengths = [len_train, len_val]\n",
    "        ds_train, ds_val = random_split(ds, lengths, torch.Generator().manual_seed(0))\n",
    "        trainloaders.append(get_dataloader(ds_train, \"train\", batch_size))\n",
    "        if len_val != 0:\n",
    "            valloaders.append(get_dataloader(ds_val, \"val\", batch_size))\n",
    "        else:\n",
    "            valloaders = None\n",
    "    testloader = get_dataloader(testset, \"test\", batch_size)\n",
    "    return trainloaders, valloaders, testloader"
   ]
  },
  {
   "cell_type": "markdown",
   "metadata": {
    "id": "bTDeis7r2tSG"
   },
   "source": [
    "Define global variables for Federated XGBoost Learning"
   ]
  },
  {
   "cell_type": "code",
   "execution_count": 21,
   "metadata": {
    "id": "fNRIVmRJ2sDQ"
   },
   "outputs": [],
   "source": [
    "\n",
    "# The number of clients participated in the federated learning\n",
    "client_num = 5\n",
    "\n",
    "# The number of XGBoost trees in the tree ensemble that will be built for each client\n",
    "client_tree_num = 500 // client_num"
   ]
  },
  {
   "cell_type": "markdown",
   "metadata": {
    "id": "V9Dpp27z2w9x"
   },
   "source": [
    "Build global XGBoost tree for comparison\n"
   ]
  },
  {
   "cell_type": "code",
   "execution_count": 22,
   "metadata": {
    "colab": {
     "base_uri": "https://localhost:8080/"
    },
    "id": "DoC9kbsA3uNt",
    "outputId": "3e5f0ab1-1440-425b-d356-2a63ff65b73c"
   },
   "outputs": [
    {
     "data": {
      "text/plain": [
       "((762015, 197), (1778032, 197))"
      ]
     },
     "execution_count": 22,
     "metadata": {},
     "output_type": "execute_result"
    }
   ],
   "source": [
    "X_test.shape,X_train.shape"
   ]
  },
  {
   "cell_type": "code",
   "execution_count": 23,
   "metadata": {
    "colab": {
     "base_uri": "https://localhost:8080/"
    },
    "id": "vbtb4U-J_LB0",
    "outputId": "de12ef24-6b62-4bef-ac76-bc96758d1ce5"
   },
   "outputs": [
    {
     "data": {
      "text/plain": [
       "0          0\n",
       "1          0\n",
       "2          0\n",
       "3          0\n",
       "4          0\n",
       "          ..\n",
       "1778027    0\n",
       "1778028    0\n",
       "1778029    0\n",
       "1778030    0\n",
       "1778031    0\n",
       "Name: label, Length: 1778032, dtype: int64"
      ]
     },
     "execution_count": 23,
     "metadata": {},
     "output_type": "execute_result"
    }
   ],
   "source": [
    "y_train"
   ]
  },
  {
   "cell_type": "code",
   "execution_count": 24,
   "metadata": {
    "id": "vJzppG4c2usv"
   },
   "outputs": [],
   "source": [
    "task_type=\"BINARY\"\n",
    "global_tree = construct_tree(X_train, y_train, client_tree_num, task_type)\n",
    "preds_train = global_tree.predict(X_train)\n",
    "preds_test = global_tree.predict(X_test)"
   ]
  },
  {
   "cell_type": "code",
   "execution_count": 25,
   "metadata": {
    "colab": {
     "base_uri": "https://localhost:8080/"
    },
    "id": "bxk8pxeb2yeW",
    "outputId": "69383d43-3db5-42a2-fd39-9387d2e7f991"
   },
   "outputs": [
    {
     "name": "stdout",
     "output_type": "stream",
     "text": [
      "Global XGBoost Training Accuracy: 0.994546\n",
      "Global XGBoost Testing Accuracy: 0.994076\n"
     ]
    }
   ],
   "source": [
    "result_train = accuracy_score(y_train, preds_train)\n",
    "result_test = accuracy_score(y_test, preds_test)\n",
    "print(\"Global XGBoost Training Accuracy: %f\" % (result_train))\n",
    "print(\"Global XGBoost Testing Accuracy: %f\" % (result_test))"
   ]
  },
  {
   "cell_type": "code",
   "execution_count": 26,
   "metadata": {
    "colab": {
     "base_uri": "https://localhost:8080/"
    },
    "id": "FbuU0n-B3M-X",
    "outputId": "51d298fe-d2b0-4dc8-81c4-4b00c5689269"
   },
   "outputs": [
    {
     "name": "stdout",
     "output_type": "stream",
     "text": [
      "XGBClassifier(alpha=5, base_score=None, booster=None, callbacks=None,\n",
      "              colsample_bylevel=1, colsample_bynode=1, colsample_bytree=1,\n",
      "              early_stopping_rounds=None, enable_categorical=False,\n",
      "              eval_metric=None, feature_types=None, gamma=5, gpu_id=None,\n",
      "              grow_policy=None, importance_type=None,\n",
      "              interaction_constraints=None, learning_rate=0.1, max_bin=None,\n",
      "              max_cat_threshold=None, max_cat_to_onehot=None,\n",
      "              max_delta_step=None, max_depth=8, max_leaves=None,\n",
      "              min_child_weight=1, missing=nan, monotone_constraints=None,\n",
      "              n_estimators=100, n_jobs=None, num_parallel_tree=1,\n",
      "              predictor=None, ...)\n"
     ]
    }
   ],
   "source": [
    "print(global_tree)\n"
   ]
  },
  {
   "cell_type": "markdown",
   "metadata": {
    "id": "eNFMmdT33P-f"
   },
   "source": [
    "Simulate local XGBoost trees on clients for comparison"
   ]
  },
  {
   "cell_type": "code",
   "execution_count": 27,
   "metadata": {
    "colab": {
     "base_uri": "https://localhost:8080/"
    },
    "id": "6r3H5KTt3ObW",
    "outputId": "66e06d09-17da-41b5-ac40-6d5c5208e7af"
   },
   "outputs": [
    {
     "name": "stdout",
     "output_type": "stream",
     "text": [
      "Local Client 0 XGBoost Training Accuracy: 0.994353\n",
      "Local Client 0 XGBoost Testing Accuracy: 0.992970\n",
      "Local Client 1 XGBoost Training Accuracy: 0.994100\n",
      "Local Client 1 XGBoost Testing Accuracy: 0.993009\n",
      "Local Client 2 XGBoost Training Accuracy: 0.994390\n",
      "Local Client 2 XGBoost Testing Accuracy: 0.993079\n",
      "Local Client 3 XGBoost Training Accuracy: 0.994072\n",
      "Local Client 3 XGBoost Testing Accuracy: 0.992820\n",
      "Local Client 4 XGBoost Training Accuracy: 0.993974\n",
      "Local Client 4 XGBoost Testing Accuracy: 0.992840\n"
     ]
    }
   ],
   "source": [
    "client_trees_comparison = []\n",
    "trainloaders, _, testloader = do_fl_partitioning(\n",
    "    trainset, testset, pool_size=client_num, batch_size=\"whole\", val_ratio=0.0\n",
    ")\n",
    "\n",
    "for i, trainloader in enumerate(trainloaders):\n",
    "    for local_dataset in trainloader:\n",
    "        local_X_train, local_y_train = local_dataset[0], local_dataset[1]\n",
    "        tree = construct_tree(local_X_train, local_y_train, client_tree_num, task_type)\n",
    "        client_trees_comparison.append(tree)\n",
    "\n",
    "        preds_train = client_trees_comparison[-1].predict(local_X_train)\n",
    "        preds_test = client_trees_comparison[-1].predict(X_test)\n",
    "\n",
    "        if task_type == \"BINARY\":\n",
    "            result_train = accuracy_score(local_y_train, preds_train)\n",
    "            result_test = accuracy_score(y_test, preds_test)\n",
    "            print(\"Local Client %d XGBoost Training Accuracy: %f\" % (i, result_train))\n",
    "            print(\"Local Client %d XGBoost Testing Accuracy: %f\" % (i, result_test))\n",
    "        elif task_type == \"REG\":\n",
    "            result_train = mean_squared_error(local_y_train, preds_train)\n",
    "            result_test = mean_squared_error(y_test, preds_test)\n",
    "            print(\"Local Client %d XGBoost Training MSE: %f\" % (i, result_train))\n",
    "            print(\"Local Client %d XGBoost Testing MSE: %f\" % (i, result_test))\n"
   ]
  },
  {
   "cell_type": "markdown",
   "metadata": {
    "id": "XUxbWNA-3UMA"
   },
   "source": [
    "Centralized Federated XGBoost\n",
    "Create 1D convolutional neural network on trees prediction results.\n",
    "1D kernel size == client_tree_num\n",
    "Make the learning rate of the tree ensembles learnable."
   ]
  },
  {
   "cell_type": "code",
   "execution_count": 28,
   "metadata": {
    "id": "xH0-wFDs3SWC"
   },
   "outputs": [],
   "source": [
    "class CNN(nn.Module):\n",
    "    def __init__(self, n_channel: int = 64) -> None:\n",
    "        super(CNN, self).__init__()\n",
    "        n_out = 1\n",
    "        self.task_type = task_type\n",
    "        self.conv1d = nn.Conv1d(\n",
    "            1, n_channel, kernel_size=client_tree_num, stride=client_tree_num, padding=0\n",
    "        )\n",
    "        self.layer_direct = nn.Linear(n_channel * client_num, n_out)\n",
    "        self.ReLU = nn.ReLU()\n",
    "        self.Sigmoid = nn.Sigmoid()\n",
    "        self.Identity = nn.Identity()\n",
    "\n",
    "        # Add weight initialization\n",
    "        for layer in self.modules():\n",
    "            if isinstance(layer, nn.Linear):\n",
    "                nn.init.kaiming_uniform_(\n",
    "                    layer.weight, mode=\"fan_in\", nonlinearity=\"relu\"\n",
    "                )\n",
    "\n",
    "    def forward(self, x: torch.Tensor) -> torch.Tensor:\n",
    "        x = self.ReLU(self.conv1d(x))\n",
    "        x = x.flatten(start_dim=1)\n",
    "        x = self.ReLU(x)\n",
    "        if self.task_type == \"BINARY\":\n",
    "            x = self.Sigmoid(self.layer_direct(x))\n",
    "        elif self.task_type == \"REG\":\n",
    "            x = self.Identity(self.layer_direct(x))\n",
    "        return x\n",
    "\n",
    "    def get_weights(self) -> fl.common.NDArrays:\n",
    "        \"\"\"Get model weights as a list of NumPy ndarrays.\"\"\"\n",
    "        return [\n",
    "            np.array(val.cpu().numpy(), copy=True)\n",
    "            for _, val in self.state_dict().items()\n",
    "        ]\n",
    "\n",
    "    def set_weights(self, weights: fl.common.NDArrays) -> None:\n",
    "        \"\"\"Set model weights from a list of NumPy ndarrays.\"\"\"\n",
    "        layer_dict = {}\n",
    "        for k, v in zip(self.state_dict().keys(), weights):\n",
    "            if v.ndim != 0:\n",
    "                layer_dict[k] = torch.Tensor(np.array(v, copy=True))\n",
    "        state_dict = OrderedDict(layer_dict)\n",
    "        self.load_state_dict(state_dict, strict=True)\n",
    "\n",
    "\n",
    "def train(\n",
    "    task_type: str,\n",
    "    net: CNN,\n",
    "    trainloader: DataLoader,\n",
    "    device: torch.device,\n",
    "    num_iterations: int,\n",
    "    log_progress: bool = True,\n",
    ") -> Tuple[float, float, int]:\n",
    "    # Define loss and optimizer\n",
    "    if task_type == \"BINARY\":\n",
    "        criterion = nn.BCELoss()\n",
    "    elif task_type == \"REG\":\n",
    "        criterion = nn.MSELoss()\n",
    "    # optimizer = torch.optim.SGD(net.parameters(), lr=0.001, momentum=0.9, weight_decay=1e-6)\n",
    "    optimizer = torch.optim.Adam(net.parameters(), lr=0.0001, betas=(0.9, 0.999))\n",
    "\n",
    "    def cycle(iterable):\n",
    "        \"\"\"Repeats the contents of the train loader, in case it gets exhausted in 'num_iterations'.\"\"\"\n",
    "        while True:\n",
    "            for x in iterable:\n",
    "                yield x\n",
    "\n",
    "    # Train the network\n",
    "    net.train()\n",
    "    total_loss, total_result, n_samples = 0.0, 0.0, 0\n",
    "    pbar = (\n",
    "        tqdm(iter(cycle(trainloader)), total=num_iterations, desc=f\"TRAIN\")\n",
    "        if log_progress\n",
    "        else iter(cycle(trainloader))\n",
    "    )\n",
    "\n",
    "    # Unusually, this training is formulated in terms of number of updates/iterations/batches processed\n",
    "    # by the network. This will be helpful later on, when partitioning the data across clients: resulting\n",
    "    # in differences between dataset sizes and hence inconsistent numbers of updates per 'epoch'.\n",
    "    for i, data in zip(range(num_iterations), pbar):\n",
    "        tree_outputs, labels = data[0].to(device), data[1].to(device)\n",
    "        optimizer.zero_grad()\n",
    "\n",
    "        outputs = net(tree_outputs)\n",
    "        loss = criterion(outputs, labels)\n",
    "        loss.backward()\n",
    "        optimizer.step()\n",
    "\n",
    "        # Collected training loss and accuracy statistics\n",
    "        total_loss += loss.item()\n",
    "        n_samples += labels.size(0)\n",
    "\n",
    "        if task_type == \"BINARY\":\n",
    "            acc = Accuracy(task=\"binary\")(outputs, labels.type(torch.int))\n",
    "            total_result += acc * labels.size(0)\n",
    "        elif task_type == \"REG\":\n",
    "            mse = MeanSquaredError()(outputs, labels.type(torch.int))\n",
    "            total_result += mse * labels.size(0)\n",
    "\n",
    "        if log_progress:\n",
    "            if task_type == \"BINARY\":\n",
    "                pbar.set_postfix(\n",
    "                    {\n",
    "                        \"train_loss\": total_loss / n_samples,\n",
    "                        \"train_acc\": total_result / n_samples,\n",
    "                    }\n",
    "                )\n",
    "            elif task_type == \"REG\":\n",
    "                pbar.set_postfix(\n",
    "                    {\n",
    "                        \"train_loss\": total_loss / n_samples,\n",
    "                        \"train_mse\": total_result / n_samples,\n",
    "                    }\n",
    "                )\n",
    "    if log_progress:\n",
    "        print(\"\\n\")\n",
    "\n",
    "    return total_loss / n_samples, total_result / n_samples, n_samples\n",
    "\n",
    "\n",
    "def test(\n",
    "    task_type: str,\n",
    "    net: CNN,\n",
    "    testloader: DataLoader,\n",
    "    device: torch.device,\n",
    "    log_progress: bool = True,\n",
    ") -> Tuple[float, float, int]:\n",
    "    \"\"\"Evaluates the network on test data.\"\"\"\n",
    "    if task_type == \"BINARY\":\n",
    "        criterion = nn.BCELoss()\n",
    "    elif task_type == \"REG\":\n",
    "        criterion = nn.MSELoss()\n",
    "\n",
    "    total_loss, total_result, n_samples = 0.0, 0.0, 0\n",
    "    net.eval()\n",
    "    with torch.no_grad():\n",
    "        pbar = tqdm(testloader, desc=\"TEST\") if log_progress else testloader\n",
    "        for data in pbar:\n",
    "            tree_outputs, labels = data[0].to(device), data[1].to(device)\n",
    "            outputs = net(tree_outputs)\n",
    "\n",
    "            # Collected testing loss and accuracy statistics\n",
    "            total_loss += criterion(outputs, labels).item()\n",
    "            n_samples += labels.size(0)\n",
    "\n",
    "            if task_type == \"BINARY\":\n",
    "                acc = Accuracy(task=\"binary\")(\n",
    "                    outputs.cpu(), labels.type(torch.int).cpu()\n",
    "                )\n",
    "                total_result += acc * labels.size(0)\n",
    "            elif task_type == \"REG\":\n",
    "                mse = MeanSquaredError()(outputs.cpu(), labels.type(torch.int).cpu())\n",
    "                total_result += mse * labels.size(0)\n",
    "\n",
    "    if log_progress:\n",
    "        print(\"\\n\")\n",
    "\n",
    "    return total_loss / n_samples, total_result / n_samples, n_samples"
   ]
  },
  {
   "cell_type": "markdown",
   "metadata": {
    "id": "P4bH0a6y3dfW"
   },
   "source": [
    "Create Flower custom client\n",
    "Import Flower custom client relevant modules"
   ]
  },
  {
   "cell_type": "code",
   "execution_count": 29,
   "metadata": {
    "id": "dGuLkSwr3Y0t"
   },
   "outputs": [],
   "source": [
    "# Flower client\n",
    "from flwr.common import (\n",
    "    EvaluateIns,\n",
    "    EvaluateRes,\n",
    "    FitIns,\n",
    "    FitRes,\n",
    "    GetPropertiesIns,\n",
    "    GetPropertiesRes,\n",
    "    GetParametersIns,\n",
    "    GetParametersRes,\n",
    "    Status,\n",
    "    Code,\n",
    "    parameters_to_ndarrays,\n",
    "    ndarrays_to_parameters,\n",
    ")\n"
   ]
  },
  {
   "cell_type": "code",
   "execution_count": 30,
   "metadata": {
    "id": "8pzlenLj3ghj"
   },
   "outputs": [],
   "source": [
    "def tree_encoding_loader(\n",
    "    dataloader: DataLoader,\n",
    "    batch_size: int,\n",
    "    client_trees: Union[\n",
    "        Tuple[XGBClassifier, int],\n",
    "        Tuple[XGBRegressor, int],\n",
    "        List[Union[Tuple[XGBClassifier, int], Tuple[XGBRegressor, int]]],\n",
    "    ],\n",
    "    client_tree_num: int,\n",
    "    client_num: int,\n",
    ") -> DataLoader:\n",
    "    encoding = tree_encoding(dataloader, client_trees, client_tree_num, client_num)\n",
    "    if encoding is None:\n",
    "        return None\n",
    "    data, labels = encoding\n",
    "    tree_dataset = TreeDataset(data, labels)\n",
    "    return get_dataloader(tree_dataset, \"tree\", batch_size)\n",
    "\n",
    "\n",
    "class FL_Client(fl.client.Client):\n",
    "    def __init__(\n",
    "        self,\n",
    "        task_type: str,\n",
    "        trainloader: DataLoader,\n",
    "        valloader: DataLoader,\n",
    "        client_tree_num: int,\n",
    "        client_num: int,\n",
    "        cid: str,\n",
    "        log_progress: bool = False,\n",
    "    ):\n",
    "        \"\"\"\n",
    "        Creates a client for training `network.Net` on tabular dataset.\n",
    "        \"\"\"\n",
    "        self.task_type = task_type\n",
    "        self.cid = cid\n",
    "        self.tree = construct_tree_from_loader(trainloader, client_tree_num, task_type)\n",
    "        self.trainloader_original = trainloader\n",
    "        self.valloader_original = valloader\n",
    "        self.trainloader = None\n",
    "        self.valloader = None\n",
    "        self.client_tree_num = client_tree_num\n",
    "        self.client_num = client_num\n",
    "        self.properties = {\"tensor_type\": \"numpy.ndarray\"}\n",
    "        self.log_progress = log_progress\n",
    "\n",
    "        # instantiate model\n",
    "        self.net = CNN()\n",
    "\n",
    "        # determine device\n",
    "        self.device = torch.device(\"cuda:0\" if torch.cuda.is_available() else \"cpu\")\n",
    "\n",
    "    def get_properties(self, ins: GetPropertiesIns) -> GetPropertiesRes:\n",
    "        return GetPropertiesRes(properties=self.properties)\n",
    "\n",
    "    def get_parameters(\n",
    "        self, ins: GetParametersIns\n",
    "    ) -> Tuple[\n",
    "        GetParametersRes, Union[Tuple[XGBClassifier, int], Tuple[XGBRegressor, int]]\n",
    "    ]:\n",
    "        return [\n",
    "            GetParametersRes(\n",
    "                status=Status(Code.OK, \"\"),\n",
    "                parameters=ndarrays_to_parameters(self.net.get_weights()),\n",
    "            ),\n",
    "            (self.tree, int(self.cid)),\n",
    "        ]\n",
    "\n",
    "    def set_parameters(\n",
    "        self,\n",
    "        parameters: Tuple[\n",
    "            Parameters,\n",
    "            Union[\n",
    "                Tuple[XGBClassifier, int],\n",
    "                Tuple[XGBRegressor, int],\n",
    "                List[Union[Tuple[XGBClassifier, int], Tuple[XGBRegressor, int]]],\n",
    "            ],\n",
    "        ],\n",
    "    ) -> Union[\n",
    "        Tuple[XGBClassifier, int],\n",
    "        Tuple[XGBRegressor, int],\n",
    "        List[Union[Tuple[XGBClassifier, int], Tuple[XGBRegressor, int]]],\n",
    "    ]:\n",
    "        self.net.set_weights(parameters_to_ndarrays(parameters[0]))\n",
    "        return parameters[1]\n",
    "\n",
    "    def fit(self, fit_params: FitIns) -> FitRes:\n",
    "        # Process incoming request to train\n",
    "        num_iterations = fit_params.config[\"num_iterations\"]\n",
    "        batch_size = fit_params.config[\"batch_size\"]\n",
    "        aggregated_trees = self.set_parameters(fit_params.parameters)\n",
    "\n",
    "        if type(aggregated_trees) is list:\n",
    "            print(\"Client \" + self.cid + \": recieved\", len(aggregated_trees), \"trees\")\n",
    "        else:\n",
    "            print(\"Client \" + self.cid + \": only had its own tree\")\n",
    "        self.trainloader = tree_encoding_loader(\n",
    "            self.trainloader_original,\n",
    "            batch_size,\n",
    "            aggregated_trees,\n",
    "            self.client_tree_num,\n",
    "            self.client_num,\n",
    "        )\n",
    "        self.valloader = tree_encoding_loader(\n",
    "            self.valloader_original,\n",
    "            batch_size,\n",
    "            aggregated_trees,\n",
    "            self.client_tree_num,\n",
    "            self.client_num,\n",
    "        )\n",
    "\n",
    "        # num_iterations = None special behaviour: train(...) runs for a single epoch, however many updates it may be\n",
    "        num_iterations = num_iterations or len(self.trainloader)\n",
    "\n",
    "        # Train the model\n",
    "        print(f\"Client {self.cid}: training for {num_iterations} iterations/updates\")\n",
    "        self.net.to(self.device)\n",
    "        train_loss, train_result, num_examples = train(\n",
    "            self.task_type,\n",
    "            self.net,\n",
    "            self.trainloader,\n",
    "            device=self.device,\n",
    "            num_iterations=num_iterations,\n",
    "            log_progress=self.log_progress,\n",
    "        )\n",
    "        print(\n",
    "            f\"Client {self.cid}: training round complete, {num_examples} examples processed\"\n",
    "        )\n",
    "\n",
    "        # Return training information: model, number of examples processed and metrics\n",
    "        if self.task_type == \"BINARY\":\n",
    "            return FitRes(\n",
    "                status=Status(Code.OK, \"\"),\n",
    "                parameters=self.get_parameters(fit_params.config),\n",
    "                num_examples=num_examples,\n",
    "                metrics={\"loss\": train_loss, \"accuracy\": train_result},\n",
    "            )\n",
    "        elif self.task_type == \"REG\":\n",
    "            return FitRes(\n",
    "                status=Status(Code.OK, \"\"),\n",
    "                parameters=self.get_parameters(fit_params.config),\n",
    "                num_examples=num_examples,\n",
    "                metrics={\"loss\": train_loss, \"mse\": train_result},\n",
    "            )\n",
    "\n",
    "    def evaluate(self, eval_params: EvaluateIns) -> EvaluateRes:\n",
    "        # Process incoming request to evaluate\n",
    "        self.set_parameters(eval_params.parameters)\n",
    "\n",
    "        # Evaluate the model\n",
    "        self.net.to(self.device)\n",
    "        loss, result, num_examples = test(\n",
    "            self.task_type,\n",
    "            self.net,\n",
    "            self.valloader,\n",
    "            device=self.device,\n",
    "            log_progress=self.log_progress,\n",
    "        )\n",
    "\n",
    "        # Return evaluation information\n",
    "        if self.task_type == \"BINARY\":\n",
    "            print(\n",
    "                f\"Client {self.cid}: evaluation on {num_examples} examples: loss={loss:.4f}, accuracy={result:.4f}\"\n",
    "            )\n",
    "            return EvaluateRes(\n",
    "                status=Status(Code.OK, \"\"),\n",
    "                loss=loss,\n",
    "                num_examples=num_examples,\n",
    "                metrics={\"accuracy\": result},\n",
    "            )\n",
    "        elif self.task_type == \"REG\":\n",
    "            print(\n",
    "                f\"Client {self.cid}: evaluation on {num_examples} examples: loss={loss:.4f}, mse={result:.4f}\"\n",
    "            )\n",
    "            return EvaluateRes(\n",
    "                status=Status(Code.OK, \"\"),\n",
    "                loss=loss,\n",
    "                num_examples=num_examples,\n",
    "                metrics={\"mse\": result},\n",
    "            )"
   ]
  },
  {
   "cell_type": "markdown",
   "metadata": {
    "id": "IfxAJO5d3nZP"
   },
   "source": [
    "Create Flower custom server\n",
    "Import Flower custom server relevant modules"
   ]
  },
  {
   "cell_type": "code",
   "execution_count": 31,
   "metadata": {
    "id": "miFaY5ztCSJ1"
   },
   "outputs": [],
   "source": [
    "# Flower server\n",
    "import functools\n",
    "from flwr.server.strategy import FedXgbNnAvg\n",
    "from flwr.server.app import ServerConfig\n",
    "\n",
    "import timeit\n",
    "from logging import DEBUG, INFO\n",
    "from typing import Dict, List, Optional, Tuple, Union\n",
    "\n",
    "from flwr.common import DisconnectRes, Parameters, ReconnectIns, Scalar\n",
    "from flwr.common.logger import log\n",
    "from flwr.common.typing import GetParametersIns\n",
    "from flwr.server.client_manager import ClientManager, SimpleClientManager\n",
    "from flwr.server.client_proxy import ClientProxy\n",
    "from flwr.server.history import History\n",
    "from flwr.server.strategy import Strategy\n",
    "from flwr.server.server import (\n",
    "    reconnect_clients,\n",
    "    reconnect_client,\n",
    "    fit_clients,\n",
    "    fit_client,\n",
    "    _handle_finished_future_after_fit,\n",
    "    evaluate_clients,\n",
    "    evaluate_client,\n",
    "    _handle_finished_future_after_evaluate,\n",
    ")\n",
    "\n",
    "FitResultsAndFailures = Tuple[\n",
    "    List[Tuple[ClientProxy, FitRes]],\n",
    "    List[Union[Tuple[ClientProxy, FitRes], BaseException]],\n",
    "]\n",
    "EvaluateResultsAndFailures = Tuple[\n",
    "    List[Tuple[ClientProxy, EvaluateRes]],\n",
    "    List[Union[Tuple[ClientProxy, EvaluateRes], BaseException]],\n",
    "]"
   ]
  },
  {
   "cell_type": "code",
   "execution_count": 32,
   "metadata": {
    "id": "c_-OyuJECV-l"
   },
   "outputs": [],
   "source": [
    "class FL_Server(fl.server.Server):\n",
    "    \"\"\"Flower server.\"\"\"\n",
    "\n",
    "    def __init__(\n",
    "        self, *, client_manager: ClientManager, strategy: Optional[Strategy] = None\n",
    "    ) -> None:\n",
    "        self._client_manager: ClientManager = client_manager\n",
    "        self.parameters: Parameters = Parameters(\n",
    "            tensors=[], tensor_type=\"numpy.ndarray\"\n",
    "        )\n",
    "        self.strategy: Strategy = strategy\n",
    "        self.max_workers: Optional[int] = None\n",
    "\n",
    "    # pylint: disable=too-many-locals\n",
    "    def fit(self, num_rounds: int, timeout: Optional[float]) -> History:\n",
    "        \"\"\"Run federated averaging for a number of rounds.\"\"\"\n",
    "        history = History()\n",
    "\n",
    "        # Initialize parameters\n",
    "        log(INFO, \"Initializing global parameters\")\n",
    "        self.parameters = self._get_initial_parameters(timeout=timeout)\n",
    "\n",
    "        log(INFO, \"Evaluating initial parameters\")\n",
    "        res = self.strategy.evaluate(0, parameters=self.parameters)\n",
    "        if res is not None:\n",
    "            log(\n",
    "                INFO,\n",
    "                \"initial parameters (loss, other metrics): %s, %s\",\n",
    "                res[0],\n",
    "                res[1],\n",
    "            )\n",
    "            history.add_loss_centralized(server_round=0, loss=res[0])\n",
    "            history.add_metrics_centralized(server_round=0, metrics=res[1])\n",
    "\n",
    "        # Run federated learning for num_rounds\n",
    "        log(INFO, \"FL starting\")\n",
    "        start_time = timeit.default_timer()\n",
    "\n",
    "        for current_round in range(1, num_rounds + 1):\n",
    "            # Train model and replace previous global model\n",
    "            res_fit = self.fit_round(server_round=current_round, timeout=timeout)\n",
    "            if res_fit:\n",
    "                parameters_prime, _, _ = res_fit  # fit_metrics_aggregated\n",
    "                if parameters_prime:\n",
    "                    self.parameters = parameters_prime\n",
    "\n",
    "            # Evaluate model using strategy implementation\n",
    "            res_cen = self.strategy.evaluate(current_round, parameters=self.parameters)\n",
    "            if res_cen is not None:\n",
    "                loss_cen, metrics_cen = res_cen\n",
    "                log(\n",
    "                    INFO,\n",
    "                    \"fit progress: (%s, %s, %s, %s)\",\n",
    "                    current_round,\n",
    "                    loss_cen,\n",
    "                    metrics_cen,\n",
    "                    timeit.default_timer() - start_time,\n",
    "                )\n",
    "                history.add_loss_centralized(server_round=current_round, loss=loss_cen)\n",
    "                history.add_metrics_centralized(\n",
    "                    server_round=current_round, metrics=metrics_cen\n",
    "                )\n",
    "\n",
    "            # Evaluate model on a sample of available clients\n",
    "            res_fed = self.evaluate_round(server_round=current_round, timeout=timeout)\n",
    "            if res_fed:\n",
    "                loss_fed, evaluate_metrics_fed, _ = res_fed\n",
    "                if loss_fed:\n",
    "                    history.add_loss_distributed(\n",
    "                        server_round=current_round, loss=loss_fed\n",
    "                    )\n",
    "                    history.add_metrics_distributed(\n",
    "                        server_round=current_round, metrics=evaluate_metrics_fed\n",
    "                    )\n",
    "\n",
    "        # Bookkeeping\n",
    "        end_time = timeit.default_timer()\n",
    "        elapsed = end_time - start_time\n",
    "        log(INFO, \"FL finished in %s\", elapsed)\n",
    "        return history\n",
    "\n",
    "    def evaluate_round(\n",
    "        self,\n",
    "        server_round: int,\n",
    "        timeout: Optional[float],\n",
    "    ) -> Optional[\n",
    "        Tuple[Optional[float], Dict[str, Scalar], EvaluateResultsAndFailures]\n",
    "    ]:\n",
    "        \"\"\"Validate current global model on a number of clients.\"\"\"\n",
    "\n",
    "        # Get clients and their respective instructions from strategy\n",
    "        client_instructions = self.strategy.configure_evaluate(\n",
    "            server_round=server_round,\n",
    "            parameters=self.parameters,\n",
    "            client_manager=self._client_manager,\n",
    "        )\n",
    "        if not client_instructions:\n",
    "            log(INFO, \"evaluate_round %s: no clients selected, cancel\", server_round)\n",
    "            return None\n",
    "        log(\n",
    "            DEBUG,\n",
    "            \"evaluate_round %s: strategy sampled %s clients (out of %s)\",\n",
    "            server_round,\n",
    "            len(client_instructions),\n",
    "            self._client_manager.num_available(),\n",
    "        )\n",
    "\n",
    "        # Collect `evaluate` results from all clients participating in this round\n",
    "        results, failures = evaluate_clients(\n",
    "            client_instructions,\n",
    "            max_workers=self.max_workers,\n",
    "            timeout=timeout,\n",
    "        )\n",
    "        log(\n",
    "            DEBUG,\n",
    "            \"evaluate_round %s received %s results and %s failures\",\n",
    "            server_round,\n",
    "            len(results),\n",
    "            len(failures),\n",
    "        )\n",
    "\n",
    "        # Aggregate the evaluation results\n",
    "        aggregated_result: Tuple[\n",
    "            Optional[float],\n",
    "            Dict[str, Scalar],\n",
    "        ] = self.strategy.aggregate_evaluate(server_round, results, failures)\n",
    "\n",
    "        loss_aggregated, metrics_aggregated = aggregated_result\n",
    "        return loss_aggregated, metrics_aggregated, (results, failures)\n",
    "\n",
    "    def fit_round(\n",
    "        self,\n",
    "        server_round: int,\n",
    "        timeout: Optional[float],\n",
    "    ) -> Optional[\n",
    "        Tuple[\n",
    "            Optional[\n",
    "                Tuple[\n",
    "                    Parameters,\n",
    "                    Union[\n",
    "                        Tuple[XGBClassifier, int],\n",
    "                        Tuple[XGBRegressor, int],\n",
    "                        List[\n",
    "                            Union[Tuple[XGBClassifier, int], Tuple[XGBRegressor, int]]\n",
    "                        ],\n",
    "                    ],\n",
    "                ]\n",
    "            ],\n",
    "            Dict[str, Scalar],\n",
    "            FitResultsAndFailures,\n",
    "        ]\n",
    "    ]:\n",
    "        \"\"\"Perform a single round of federated averaging.\"\"\"\n",
    "\n",
    "        # Get clients and their respective instructions from strategy\n",
    "        client_instructions = self.strategy.configure_fit(\n",
    "            server_round=server_round,\n",
    "            parameters=self.parameters,\n",
    "            client_manager=self._client_manager,\n",
    "        )\n",
    "\n",
    "        if not client_instructions:\n",
    "            log(INFO, \"fit_round %s: no clients selected, cancel\", server_round)\n",
    "            return None\n",
    "        log(\n",
    "            DEBUG,\n",
    "            \"fit_round %s: strategy sampled %s clients (out of %s)\",\n",
    "            server_round,\n",
    "            len(client_instructions),\n",
    "            self._client_manager.num_available(),\n",
    "        )\n",
    "\n",
    "        # Collect `fit` results from all clients participating in this round\n",
    "        results, failures = fit_clients(\n",
    "            client_instructions=client_instructions,\n",
    "            max_workers=self.max_workers,\n",
    "            timeout=timeout,\n",
    "        )\n",
    "\n",
    "        log(\n",
    "            DEBUG,\n",
    "            \"fit_round %s received %s results and %s failures\",\n",
    "            server_round,\n",
    "            len(results),\n",
    "            len(failures),\n",
    "        )\n",
    "\n",
    "        # Aggregate training results\n",
    "        NN_aggregated: Parameters\n",
    "        trees_aggregated: Union[\n",
    "            Tuple[XGBClassifier, int],\n",
    "            Tuple[XGBRegressor, int],\n",
    "            List[Union[Tuple[XGBClassifier, int], Tuple[XGBRegressor, int]]],\n",
    "        ]\n",
    "        metrics_aggregated: Dict[str, Scalar]\n",
    "        aggregated, metrics_aggregated = self.strategy.aggregate_fit(\n",
    "            server_round, results, failures\n",
    "        )\n",
    "        NN_aggregated, trees_aggregated = aggregated[0], aggregated[1]\n",
    "\n",
    "        if type(trees_aggregated) is list:\n",
    "            print(\"Server side aggregated\", len(trees_aggregated), \"trees.\")\n",
    "        else:\n",
    "            print(\"Server side did not aggregate trees.\")\n",
    "\n",
    "        return (\n",
    "            [NN_aggregated, trees_aggregated],\n",
    "            metrics_aggregated,\n",
    "            (results, failures),\n",
    "        )\n",
    "\n",
    "    def _get_initial_parameters(\n",
    "        self, timeout: Optional[float]\n",
    "    ) -> Tuple[Parameters, Union[Tuple[XGBClassifier, int], Tuple[XGBRegressor, int]]]:\n",
    "        \"\"\"Get initial parameters from one of the available clients.\"\"\"\n",
    "\n",
    "        # Server-side parameter initialization\n",
    "        parameters: Optional[Parameters] = self.strategy.initialize_parameters(\n",
    "            client_manager=self._client_manager\n",
    "        )\n",
    "        if parameters is not None:\n",
    "            log(INFO, \"Using initial parameters provided by strategy\")\n",
    "            return parameters\n",
    "\n",
    "        # Get initial parameters from one of the clients\n",
    "        log(INFO, \"Requesting initial parameters from one random client\")\n",
    "        random_client = self._client_manager.sample(1)[0]\n",
    "        ins = GetParametersIns(config={})\n",
    "        get_parameters_res_tree = random_client.get_parameters(ins=ins, timeout=timeout)\n",
    "        parameters = [get_parameters_res_tree[0].parameters, get_parameters_res_tree[1]]\n",
    "        log(INFO, \"Received initial parameters from one random client\")\n",
    "\n",
    "        return parameters"
   ]
  },
  {
   "cell_type": "markdown",
   "metadata": {
    "id": "nC2bhxsWCbOu"
   },
   "source": [
    "Create server-side evaluation and experiment"
   ]
  },
  {
   "cell_type": "code",
   "execution_count": 33,
   "metadata": {
    "id": "MuVWUGVW3jww"
   },
   "outputs": [],
   "source": [
    "def print_model_layers(model: nn.Module) -> None:\n",
    "    print(model)\n",
    "    for param_tensor in model.state_dict():\n",
    "        print(param_tensor, \"\\t\", model.state_dict()[param_tensor].size())\n",
    "\n",
    "\n",
    "def serverside_eval(\n",
    "    server_round: int,\n",
    "    parameters: Tuple[\n",
    "        Parameters,\n",
    "        Union[\n",
    "            Tuple[XGBClassifier, int],\n",
    "            Tuple[XGBRegressor, int],\n",
    "            List[Union[Tuple[XGBClassifier, int], Tuple[XGBRegressor, int]]],\n",
    "        ],\n",
    "    ],\n",
    "    config: Dict[str, Scalar],\n",
    "    task_type: str,\n",
    "    testloader: DataLoader,\n",
    "    batch_size: int,\n",
    "    client_tree_num: int,\n",
    "    client_num: int,\n",
    ") -> Tuple[float, Dict[str, float]]:\n",
    "    \"\"\"An evaluation function for centralized/serverside evaluation over the entire test set.\"\"\"\n",
    "    # device = torch.device(\"cuda:0\" if torch.cuda.is_available() else \"cpu\")\n",
    "    device = \"cpu\"\n",
    "    model = CNN()\n",
    "    # print_model_layers(model)\n",
    "\n",
    "    model.set_weights(parameters_to_ndarrays(parameters[0]))\n",
    "    model.to(device)\n",
    "\n",
    "    trees_aggregated = parameters[1]\n",
    "    testloader = tree_encoding_loader(\n",
    "        testloader, batch_size, trees_aggregated, client_tree_num, client_num\n",
    "    )\n",
    "    loss, result, _ = test(\n",
    "        task_type, model, testloader, device=device, log_progress=False\n",
    "    )\n",
    "\n",
    "    if task_type == \"BINARY\":\n",
    "        print(\n",
    "            f\"Evaluation on the server: test_loss={loss:.4f}, test_accuracy={result:.4f}\"\n",
    "        )\n",
    "        return loss, {\"accuracy\": result}\n",
    "    elif task_type == \"REG\":\n",
    "        print(f\"Evaluation on the server: test_loss={loss:.4f}, test_mse={result:.4f}\")\n",
    "        return loss, {\"mse\": result}\n",
    "\n",
    "\n",
    "def start_experiment(\n",
    "    task_type: str,\n",
    "    trainset: Dataset,\n",
    "    testset: Dataset,\n",
    "    num_rounds: int = 5,\n",
    "    client_tree_num: int = 50,\n",
    "    client_pool_size: int = 5,\n",
    "    num_iterations: int = 100,\n",
    "    fraction_fit: float = 1.0,\n",
    "    min_fit_clients: int = 2,\n",
    "    batch_size: int = 32,\n",
    "    val_ratio: float = 0.1,\n",
    ") -> History:\n",
    "    client_resources = {\"num_cpus\": 0.5}  # 2 clients per CPU\n",
    "\n",
    "    # Partition the dataset into subsets reserved for each client.\n",
    "    # - 'val_ratio' controls the proportion of the (local) client reserved as a local test set\n",
    "    # (good for testing how the final model performs on the client's local unseen data)\n",
    "    trainloaders, valloaders, testloader = do_fl_partitioning(\n",
    "        trainset,\n",
    "        testset,\n",
    "        batch_size=\"whole\",\n",
    "        pool_size=client_pool_size,\n",
    "        val_ratio=val_ratio,\n",
    "    )\n",
    "    print(\n",
    "        f\"Data partitioned across {client_pool_size} clients\"\n",
    "        f\" and {val_ratio} of local dataset reserved for validation.\"\n",
    "    )\n",
    "\n",
    "    # Configure the strategy\n",
    "    def fit_config(server_round: int) -> Dict[str, Scalar]:\n",
    "        print(f\"Configuring round {server_round}\")\n",
    "        return {\n",
    "            \"num_iterations\": num_iterations,\n",
    "            \"batch_size\": batch_size,\n",
    "        }\n",
    "\n",
    "    # FedXgbNnAvg\n",
    "    strategy = FedXgbNnAvg(\n",
    "        fraction_fit=fraction_fit,\n",
    "        fraction_evaluate=fraction_fit if val_ratio > 0.0 else 0.0,\n",
    "        min_fit_clients=min_fit_clients,\n",
    "        min_evaluate_clients=min_fit_clients,\n",
    "        min_available_clients=client_pool_size,  # all clients should be available\n",
    "        on_fit_config_fn=fit_config,\n",
    "        on_evaluate_config_fn=(lambda r: {\"batch_size\": batch_size}),\n",
    "        evaluate_fn=functools.partial(\n",
    "            serverside_eval,\n",
    "            task_type=task_type,\n",
    "            testloader=testloader,\n",
    "            batch_size=batch_size,\n",
    "            client_tree_num=client_tree_num,\n",
    "            client_num=client_num,\n",
    "        ),\n",
    "        accept_failures=False,\n",
    "    )\n",
    "\n",
    "    print(\n",
    "        f\"FL experiment configured for {num_rounds} rounds with {client_pool_size} client in the pool.\"\n",
    "    )\n",
    "    print(\n",
    "        f\"FL round will proceed with {fraction_fit * 100}% of clients sampled, at least {min_fit_clients}.\"\n",
    "    )\n",
    "\n",
    "    def client_fn(cid: str) -> fl.client.Client:\n",
    "        \"\"\"Creates a federated learning client\"\"\"\n",
    "        if val_ratio > 0.0 and val_ratio <= 1.0:\n",
    "            return FL_Client(\n",
    "                task_type,\n",
    "                trainloaders[int(cid)],\n",
    "                valloaders[int(cid)],\n",
    "                client_tree_num,\n",
    "                client_pool_size,\n",
    "                cid,\n",
    "                log_progress=False,\n",
    "            )\n",
    "        else:\n",
    "            return FL_Client(\n",
    "                task_type,\n",
    "                trainloaders[int(cid)],\n",
    "                None,\n",
    "                client_tree_num,\n",
    "                client_pool_size,\n",
    "                cid,\n",
    "                log_progress=False,\n",
    "            )\n",
    "\n",
    "    # Start the simulation\n",
    "    history = fl.simulation.start_simulation(\n",
    "        client_fn=client_fn,\n",
    "        server=FL_Server(client_manager=SimpleClientManager(), strategy=strategy),\n",
    "        num_clients=client_pool_size,\n",
    "        client_resources=client_resources,\n",
    "        config=ServerConfig(num_rounds=num_rounds),\n",
    "        strategy=strategy,\n",
    "    )\n",
    "\n",
    "    print(history)\n",
    "\n",
    "    return history"
   ]
  },
  {
   "cell_type": "code",
   "execution_count": null,
   "metadata": {
    "colab": {
     "base_uri": "https://localhost:8080/"
    },
    "id": "0xRGcsDMCCiZ",
    "outputId": "0e12396d-a281-4849-c5b6-57b205906050"
   },
   "outputs": [
    {
     "name": "stderr",
     "output_type": "stream",
     "text": [
      "WARNING flwr 2023-10-22 15:26:44,125 | app.py:210 | Both server and strategy were provided, ignoring strategy\n",
      "INFO flwr 2023-10-22 15:26:44,125 | app.py:175 | Starting Flower simulation, config: ServerConfig(num_rounds=20, round_timeout=None)\n"
     ]
    },
    {
     "name": "stdout",
     "output_type": "stream",
     "text": [
      "Data partitioned across 5 clients and 0.0 of local dataset reserved for validation.\n",
      "FL experiment configured for 20 rounds with 5 client in the pool.\n",
      "FL round will proceed with 100.0% of clients sampled, at least 1.\n"
     ]
    },
    {
     "name": "stderr",
     "output_type": "stream",
     "text": [
      "2023-10-22 15:26:52,403\tERROR services.py:1207 -- Failed to start the dashboard , return code 1\n",
      "2023-10-22 15:26:52,403\tERROR services.py:1232 -- Error should be written to 'dashboard.log' or 'dashboard.err'. We are printing the last 20 lines for you. See 'https://docs.ray.io/en/master/ray-observability/ray-logging.html#logging-directory-structure' to find where the log file is.\n",
      "2023-10-22 15:26:52,403\tERROR services.py:1276 -- \n",
      "The last 20 lines of C:\\Users\\dhind\\AppData\\Local\\Temp\\ray\\session_2023-10-22_15-26-45_324434_32956\\logs\\dashboard.log (it contains the error message from the dashboard): \n",
      "  File \"C:\\Users\\dhind\\anaconda3\\lib\\site-packages\\ray\\dashboard\\utils.py\", line 121, in get_all_modules\n",
      "    importlib.import_module(name)\n",
      "  File \"C:\\Users\\dhind\\anaconda3\\lib\\importlib\\__init__.py\", line 127, in import_module\n",
      "    return _bootstrap._gcd_import(name[level:], package, level)\n",
      "  File \"<frozen importlib._bootstrap>\", line 1030, in _gcd_import\n",
      "  File \"<frozen importlib._bootstrap>\", line 1007, in _find_and_load\n",
      "  File \"<frozen importlib._bootstrap>\", line 986, in _find_and_load_unlocked\n",
      "  File \"<frozen importlib._bootstrap>\", line 680, in _load_unlocked\n",
      "  File \"<frozen importlib._bootstrap_external>\", line 850, in exec_module\n",
      "  File \"<frozen importlib._bootstrap>\", line 228, in _call_with_frames_removed\n",
      "  File \"C:\\Users\\dhind\\anaconda3\\lib\\site-packages\\ray\\dashboard\\modules\\log\\log_manager.py\", line 8, in <module>\n",
      "    from ray.util.state.common import (\n",
      "  File \"C:\\Users\\dhind\\anaconda3\\lib\\site-packages\\ray\\util\\state\\__init__.py\", line 1, in <module>\n",
      "    from ray.util.state.api import (\n",
      "  File \"C:\\Users\\dhind\\anaconda3\\lib\\site-packages\\ray\\util\\state\\api.py\", line 17, in <module>\n",
      "    from ray.util.state.common import (\n",
      "  File \"C:\\Users\\dhind\\anaconda3\\lib\\site-packages\\ray\\util\\state\\common.py\", line 37, in <module>\n",
      "    is_pydantic_2 = pydantic.__version__.startswith(\"2\")\n",
      "AttributeError: module 'pydantic' has no attribute '__version__'\n",
      "2023-10-22 15:26:53,002\tINFO worker.py:1621 -- Started a local Ray instance.\n"
     ]
    }
   ],
   "source": [
    "start_experiment(\n",
    "    task_type=task_type,\n",
    "    trainset=trainset,\n",
    "    testset=testset,\n",
    "    num_rounds=20,\n",
    "    client_tree_num=client_tree_num,\n",
    "    client_pool_size=client_num,\n",
    "    num_iterations=100,\n",
    "    batch_size=64,\n",
    "    fraction_fit=1.0,\n",
    "    min_fit_clients=1,\n",
    "    val_ratio=0.0,\n",
    ")"
   ]
  },
  {
   "cell_type": "code",
   "execution_count": null,
   "metadata": {},
   "outputs": [],
   "source": []
  },
  {
   "cell_type": "code",
   "execution_count": null,
   "metadata": {},
   "outputs": [],
   "source": []
  },
  {
   "cell_type": "code",
   "execution_count": null,
   "metadata": {},
   "outputs": [],
   "source": []
  },
  {
   "cell_type": "code",
   "execution_count": null,
   "metadata": {},
   "outputs": [],
   "source": [
    "import ray\n",
    "ray.available_resources()"
   ]
  },
  {
   "cell_type": "code",
   "execution_count": null,
   "metadata": {
    "colab": {
     "base_uri": "https://localhost:8080/",
     "height": 70
    },
    "id": "pCBKGdT3Anfq",
    "outputId": "6fbdd2ec-2976-49bf-f047-033cb126b479"
   },
   "outputs": [],
   "source": [
    "'''\n",
    "        num_cpus = 4\n",
    "        num_gpus = 1\n",
    "        ram_memory = 16_000 * 1024 * 1024 # 16 GB\n",
    "\n",
    "\n",
    "        # Single client resources\n",
    "        client_num_cpus = 2\n",
    "        client_num_gpus = 1\n",
    "        \n",
    "        ray_init_args = {\n",
    "            \"include_dashboard\": True, # we need this one for tracking\n",
    "            \"num_cpus\": num_cpus,\n",
    "            \"num_gpus\": num_gpus,\n",
    "            \"memory\": ram_memory,\n",
    "        },\n",
    "        # The argument below is new\n",
    "        client_resources = {\n",
    "            \"num_cpus\": client_num_cpus,\n",
    "            \"num_gpus\": client_num_gpus,\n",
    "        }\n",
    "        '''"
   ]
  }
 ],
 "metadata": {
  "accelerator": "TPU",
  "colab": {
   "provenance": []
  },
  "kernelspec": {
   "display_name": "Python 3 (ipykernel)",
   "language": "python",
   "name": "python3"
  },
  "language_info": {
   "codemirror_mode": {
    "name": "ipython",
    "version": 3
   },
   "file_extension": ".py",
   "mimetype": "text/x-python",
   "name": "python",
   "nbconvert_exporter": "python",
   "pygments_lexer": "ipython3",
   "version": "3.9.7"
  }
 },
 "nbformat": 4,
 "nbformat_minor": 1
}
